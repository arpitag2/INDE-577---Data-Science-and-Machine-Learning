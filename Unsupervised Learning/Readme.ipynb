{
 "cells": [
  {
   "cell_type": "markdown",
   "metadata": {},
   "source": [
    "# Wine Quality Dataset\n",
    "\n",
    "Source: UC Irvine Libraries\n",
    "\n",
    "The dataset consists of red wine variant of Portuges \"Vinho Verde\" wine. Due to privacy and logistic issues, only physicochemical (inputs) and sensory (the output) variables are available (e.g. there is no data about grape types, wine brand, wine selling price, etc.).\n",
    "\n",
    "For this algorithm, I use a subset of this datset, with two types of qualities - 4 and 7.\n",
    "\n",
    "Attribute Information:\n",
    "\n",
    "For more information, read [Cortez et al., 2009]. \n",
    "Input variables (based on physicochemical tests): \n",
    "1 - fixed acidity \n",
    "2 - volatile acidity \n",
    "3 - citric acid \n",
    "4 - residual sugar \n",
    "5 - chlorides \n",
    "6 - free sulfur dioxide \n",
    "7 - total sulfur dioxide \n",
    "8 - density \n",
    "9 - pH \n",
    "10 - sulphates \n",
    "11 - alcohol \n",
    "Output variable (based on sensory data): \n",
    "12 - quality (score between 0 and 10)\n",
    "\n",
    "\n",
    "I have used Alcohol (attribute 11) and pH (attribute 9)"
   ]
  },
  {
   "cell_type": "markdown",
   "metadata": {},
   "source": [
    "# Unsupervised Learning\n",
    "\n",
    "Unsupervised learning is used in situations where data isn't grouped in advance. This is mostly because we don't know the features that defines a group.\n",
    "\n",
    "## Clustering\n",
    "\n",
    "In clustering, as the name suggests, data is grouped in  natual \"clusters.\"\n",
    "K-means clustering: \"K\" refers to the chosen no. of clusters. \n",
    "K-means functions by assigning “centroids” to the dataset, which represent the center of a given class. The distance between a given data point and the centroids is measured, and the data point is assigned to the class represented by the nearest centroid. The positions of the centroids are moved and the process is repeated until the distance between all centroids and their surrounding points is minimized.\n",
    "\n",
    "## Principle Component Analysis\n",
    "\n",
    "Through this method, the dimensionality of data is reduced i.e it takes all inputs as features and then compresses them into fewer features.\n",
    "\n",
    "Source: https://sdsclub.com/unsupervised-vs-supervised-machine-learning-full-explanation/"
   ]
  }
 ],
 "metadata": {
  "kernelspec": {
   "display_name": "Python 3.10.6 64-bit",
   "language": "python",
   "name": "python3"
  },
  "language_info": {
   "name": "python",
   "version": "3.10.6"
  },
  "orig_nbformat": 4,
  "vscode": {
   "interpreter": {
    "hash": "aee8b7b246df8f9039afb4144a1f6fd8d2ca17a180786b69acc140d282b71a49"
   }
  }
 },
 "nbformat": 4,
 "nbformat_minor": 2
}
