{
 "cells": [
  {
   "cell_type": "code",
   "execution_count": 1,
   "id": "742150fa",
   "metadata": {},
   "outputs": [
    {
     "name": "stdout",
     "output_type": "stream",
     "text": [
      "degree = 5\n"
     ]
    }
   ],
   "source": [
    "# A simple representation of P(x) = 5x^5 + 4x^4 + 3x^3 + 2x^2 + 1x^1\n",
    "poly = [5, 4, 3, 2, 1, 0]\n",
    "\n",
    "degree = len(poly) - 1\n",
    "\n",
    "print(f\"{degree = }\")"
   ]
  },
  {
   "cell_type": "code",
   "execution_count": 10,
   "id": "7e185614",
   "metadata": {},
   "outputs": [],
   "source": [
    "# Create custom Polynomial object\n",
    "class Polynomial(object):\n",
    "    # Call the __init__ function which initializes the attributes of the object \n",
    "    def __init__(self, coef):\n",
    "        self.coef = coef\n",
    "    \n",
    "    def degree(self):\n",
    "        degree = len(self.coef) - 1\n",
    "        return degree\n",
    "    \n",
    "\n",
    "        \n",
    "p = Polynomial([5, 4, 3, 2, 1, 0])\n",
    "q = Polynomial([1, 2, 3, 4])\n"
   ]
  },
  {
   "cell_type": "code",
   "execution_count": 11,
   "id": "a50c1be5",
   "metadata": {},
   "outputs": [
    {
     "name": "stdout",
     "output_type": "stream",
     "text": [
      "p.degree() =  5\n",
      "q.degree() =  3\n"
     ]
    }
   ],
   "source": [
    "p.degree()\n",
    "q.degree()\n",
    "print(f\"{p.degree() =  }\")\n",
    "print(f\"{q.degree() =  }\")"
   ]
  },
  {
   "cell_type": "code",
   "execution_count": 12,
   "id": "c4582964",
   "metadata": {},
   "outputs": [
    {
     "name": "stdout",
     "output_type": "stream",
     "text": [
      "<__main__.Polynomial object at 0x7facf9322430>\n",
      "q has coefficients q.coef = [1, 2, 3, 4]\n",
      "q is of degree q.degree() = 3\n"
     ]
    }
   ],
   "source": [
    "# Instantiate instance of the Polynomial class\n",
    "q = Polynomial([1, 2, 3, 4])\n",
    "\n",
    "print(q)\n",
    "print(f\"q has coefficients {q.coef = }\")\n",
    "print(f\"q is of degree {q.degree() = }\")\n"
   ]
  },
  {
   "cell_type": "code",
   "execution_count": 13,
   "id": "8dceb765",
   "metadata": {},
   "outputs": [
    {
     "name": "stdout",
     "output_type": "stream",
     "text": [
      "<__main__.Polynomial object at 0x7facf9322730>\n",
      "p(x) = 5x^5 + 4x^4 + 3x^3 + 2x^2 + x\n",
      "p has coefficients [5, 4, 3, 2, 1, 0] \n",
      "\n",
      "5x^54x^43x^32x^21x^10x^0\n"
     ]
    }
   ],
   "source": [
    "\n",
    "p = Polynomial([5, 4, 3, 2, 1, 0])\n",
    "\n",
    "print(p)\n",
    "print(\"p(x) = 5x^5 + 4x^4 + 3x^3 + 2x^2 + x\")\n",
    "print(f\"p has coefficients {p.coef} \\n\")\n",
    "\n",
    "degree = p.degree()\n",
    "p_string = \"\"\n",
    "for i, a in enumerate(p.coef):\n",
    "    p_string += f\"{a}x^{degree - i}\"\n",
    "print(p_string)\n"
   ]
  },
  {
   "cell_type": "code",
   "execution_count": 14,
   "id": "41033e49",
   "metadata": {},
   "outputs": [
    {
     "name": "stdout",
     "output_type": "stream",
     "text": [
      "<__main__.Polynomial object at 0x7fad30035dc0>\n",
      "p(x) = 5x^5 + 4x^4 + 3x^3 + 2x^2 + x\n",
      "p(x) = 5x^5 + 4x^4 + 3x^3 + 2x^2 + 1x^1 + 0x^0 \n"
     ]
    }
   ],
   "source": [
    "\n",
    "# Instantiate instance of the Polynomial class\n",
    "p = Polynomial([5, 4, 3, 2, 1, 0])\n",
    "\n",
    "\n",
    "print(p)\n",
    "print(\"p(x) = 5x^5 + 4x^4 + 3x^3 + 2x^2 + x\")\n",
    "\n",
    "degree = p.degree()\n",
    "p_string = \"\"\n",
    "for i, a in enumerate(p.coef):\n",
    "    p_string += f\"{a}x^{degree - i} + \"\n",
    "print(f\"p(x) = {p_string[:-2]}\")\n"
   ]
  },
  {
   "cell_type": "code",
   "execution_count": 15,
   "id": "35d4a1bd",
   "metadata": {},
   "outputs": [
    {
     "name": "stdout",
     "output_type": "stream",
     "text": [
      "<__main__.Polynomial object at 0x7fad3003b160>\n",
      "p(x) = 5x^5 + 4x^4 + 3x^3 + 2x^2 + x\n",
      "p(x) = 5x^5 + 4x^4 + 3x^3 + 2x^2 + 1x^1 + 0x^0 \n"
     ]
    }
   ],
   "source": [
    "\n",
    "class Polynomial(object):\n",
    "    # Call the __init__ function which initializes the attributes of the object \n",
    "    def __init__(self, coef):\n",
    "        self.coef = coef\n",
    "    # Define a degree method\n",
    "    def degree(self):\n",
    "        degree = len(self.coef) - 1 \n",
    "        return degree\n",
    "\n",
    "    def string(self):\n",
    "        degree = self.degree()\n",
    "        string = \"\"\n",
    "        for i, a in enumerate(self.coef):\n",
    "            string += f\"{a}x^{degree - i} + \"\n",
    "        return string[:-2] \n",
    "\n",
    "\n",
    "# Instantiate instance of the Polynomial class\n",
    "p = Polynomial([5, 4, 3, 2, 1, 0])\n",
    "\n",
    "print(p)\n",
    "print(\"p(x) = 5x^5 + 4x^4 + 3x^3 + 2x^2 + x\")\n",
    "\n",
    "print(f\"p(x) = {p.string()}\")"
   ]
  },
  {
   "cell_type": "code",
   "execution_count": 17,
   "id": "bd64747d",
   "metadata": {},
   "outputs": [
    {
     "name": "stdout",
     "output_type": "stream",
     "text": [
      "p(x) = 5x^5 + 4x^4 + 3x^3 + 2x^2 + x\n",
      "p(x) = 5x^5 + 4x^4 + 3x^3 + 2x^2 + 1x^1 + 0x^0 \n"
     ]
    }
   ],
   "source": [
    "# Create custom Polynomial object\n",
    "class Polynomial(object):\n",
    "    # Call the __init__ function which initializes the attributes of the object \n",
    "    def __init__(self, coef):\n",
    "        self.coef = coef # Does not need to have the same name\n",
    "\n",
    "    # Define a degree method\n",
    "    def degree(self):\n",
    "        degree = len(self.coef) - 1 \n",
    "        return degree\n",
    "\n",
    "    # Define the __repr__() method\n",
    "    def __repr__(self):\n",
    "        degree = self.degree()\n",
    "        string = \"\"\n",
    "        for i, a in enumerate(self.coef):\n",
    "            string += f\"{a}x^{degree - i} + \"\n",
    "        return string[:-2] \n",
    "\n",
    "\n",
    "# Instantiate instance of the Polynomial class\n",
    "p = Polynomial([5, 4, 3, 2, 1, 0])\n",
    "\n",
    "print(\"p(x) = 5x^5 + 4x^4 + 3x^3 + 2x^2 + x\")\n",
    "print(f\"p(x) = {p}\")\n"
   ]
  },
  {
   "cell_type": "code",
   "execution_count": 18,
   "id": "491db111",
   "metadata": {},
   "outputs": [
    {
     "data": {
      "text/plain": [
       "5x^5 + 4x^4 + 3x^3 + 2x^2 + 1x^1 + 0x^0 "
      ]
     },
     "execution_count": 18,
     "metadata": {},
     "output_type": "execute_result"
    }
   ],
   "source": [
    "p"
   ]
  },
  {
   "cell_type": "code",
   "execution_count": 19,
   "id": "ff6c85c1",
   "metadata": {},
   "outputs": [
    {
     "name": "stdout",
     "output_type": "stream",
     "text": [
      "5x^5 + 4x^4 + 3x^3 + 2x^2 + 1x^1 + 0x^0 \n",
      "p(x) = 5x^5 + 4x^4 + 3x^3 + 2x^2 + x\n",
      "p(x) = 5x^5 + 4x^4 + 3x^3 + 2x^2 + 1x^1 + 0x^0 \n",
      "p(0) = 0\n"
     ]
    }
   ],
   "source": [
    "class Polynomial(object):\n",
    "    # Call the __init__ function which initializes the attributes of the object \n",
    "    def __init__(self, coef):\n",
    "        self.coef = coef # Does not need to have the same name\n",
    "    # Define a degree method\n",
    "    def degree(self):\n",
    "        degree = len(self.coef) - 1 \n",
    "        return degree\n",
    "\n",
    "    def __repr__(self):\n",
    "        degree = self.degree()\n",
    "        string = \"\"\n",
    "        for i, a in enumerate(self.coef):\n",
    "            string += f\"{a}x^{degree - i} + \"\n",
    "        return string[:-2] \n",
    "\n",
    "    def __call__(self, x):\n",
    "        degree = self.degree()\n",
    "        value = 0\n",
    "        for i, a in enumerate(self.coef):\n",
    "            value += a * x**(degree - i)\n",
    "        return value\n",
    "\n",
    "# Instantiate instance of the Polynomial class\n",
    "p = Polynomial([5, 4, 3, 2, 1, 0])\n",
    "\n",
    "print(p)\n",
    "print(\"p(x) = 5x^5 + 4x^4 + 3x^3 + 2x^2 + x\")\n",
    "print(f\"p(x) = {p}\")\n",
    "print(f\"p(0) = {p(0)}\") "
   ]
  },
  {
   "cell_type": "code",
   "execution_count": 20,
   "id": "c0b92f5c",
   "metadata": {},
   "outputs": [
    {
     "name": "stdout",
     "output_type": "stream",
     "text": [
      "5x^5 + 4x^4 + 3x^3 + 2x^2 + 1x^1 + 0x^0 \n",
      "p(x) = 5x^5 + 4x^4 + 3x^3 + 2x^2 + x\n",
      "p(x) = 5x^5 + 4x^4 + 3x^3 + 2x^2 + 1x^1 + 0x^0 \n",
      "p(3) = 1641\n"
     ]
    }
   ],
   "source": [
    "#Create custom Polynomial object\n",
    "class Polynomial(object):\n",
    "    # Call the __init__ function which initializes the attributes of the object \n",
    "    def __init__(self, coef):\n",
    "        self.coef = coef # Does not need to have the same name\n",
    "    # Define a degree method\n",
    "    def degree(self):\n",
    "        degree = len(self.coef) - 1 \n",
    "        return degree\n",
    "\n",
    "    def __repr__(self):\n",
    "        degree = self.degree()\n",
    "        string = \"\"\n",
    "        for i, a in enumerate(self.coef):\n",
    "            string += f\"{a}x^{degree - i} + \"\n",
    "        return string[:-2] \n",
    "\n",
    "    def __call__(self, x):\n",
    "        degree = self.degree()\n",
    "        value = 0\n",
    "        for i, a in enumerate(self.coef):\n",
    "            value += a * x**(degree - i)\n",
    "        return value\n",
    "\n",
    "# Instantiate instance of the Polynomial class\n",
    "p = Polynomial([5, 4, 3, 2, 1, 0])\n",
    "\n",
    "print(p)\n",
    "print(\"p(x) = 5x^5 + 4x^4 + 3x^3 + 2x^2 + x\")\n",
    "print(f\"p(x) = {p}\")\n",
    "print(f\"p(3) = {p(3)}\")\n"
   ]
  }
 ],
 "metadata": {
  "kernelspec": {
   "display_name": "Python 3 (ipykernel)",
   "language": "python",
   "name": "python3"
  },
  "language_info": {
   "codemirror_mode": {
    "name": "ipython",
    "version": 3
   },
   "file_extension": ".py",
   "mimetype": "text/x-python",
   "name": "python",
   "nbconvert_exporter": "python",
   "pygments_lexer": "ipython3",
   "version": "3.9.7"
  }
 },
 "nbformat": 4,
 "nbformat_minor": 5
}
