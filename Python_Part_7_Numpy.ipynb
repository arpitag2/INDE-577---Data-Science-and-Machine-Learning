{
 "cells": [
  {
   "cell_type": "code",
   "execution_count": 2,
   "id": "da962715",
   "metadata": {},
   "outputs": [
    {
     "name": "stdout",
     "output_type": "stream",
     "text": [
      "a = array([5., 6., 7., 8.])\n",
      "The type of a is: type(a) = <class 'numpy.ndarray'>\n"
     ]
    }
   ],
   "source": [
    "import numpy as np\n",
    "\n",
    "a = np.array([5.0, 6.0, 7.0, 8.0])\n",
    "print(f\"{a = }\")\n",
    "print(f\"The type of a is: {type(a) = }\")"
   ]
  },
  {
   "cell_type": "code",
   "execution_count": 4,
   "id": "e019b992",
   "metadata": {},
   "outputs": [
    {
     "name": "stdout",
     "output_type": "stream",
     "text": [
      "a = array([5., 6., 7., 8.])\n",
      "The shape of a is: a.shape = (4,)\n",
      "The types in a are: a.dtype = dtype('float64') \n",
      "\n",
      "b = array([ 9., 10., 11.])\n",
      "The shape of b is: b.shape = (3,)\n",
      "The types in b are: b.dtype = dtype('float64')\n"
     ]
    }
   ],
   "source": [
    "a = np.array([5.0, 6.0, 7.0, 8.0])\n",
    "\n",
    "print(f\"{a = }\")\n",
    "print(f\"The shape of a is: {a.shape = }\")\n",
    "print(f\"The types in a are: {a.dtype = } \\n\")\n",
    "\n",
    "b = np.array([9.0, 10.0, 11.0])\n",
    "\n",
    "print(f\"{b = }\")\n",
    "print(f\"The shape of b is: {b.shape = }\")\n",
    "print(f\"The types in b are: {b.dtype = }\")"
   ]
  },
  {
   "cell_type": "code",
   "execution_count": 5,
   "id": "da29d28c",
   "metadata": {},
   "outputs": [
    {
     "name": "stdout",
     "output_type": "stream",
     "text": [
      "a = array([ 1.,  2.,  3., -1., -2., -3.])\n",
      "The mean of values in a: a.mean() = 0.0\n",
      "The maximum of values in a: a.max() = 3.0\n",
      "The argmax of values in a: a.argmax() = 2\n",
      "The minimum of values in a: a.min() = -3.0\n",
      "The argmin of values in a: a.argmin() = 5\n"
     ]
    }
   ],
   "source": [
    "\n",
    "a = np.array([1.0, 2.0, 3.0, -1.0, -2.0, -3.0])\n",
    "\n",
    "print(f\"{a = }\")\n",
    "print(f\"The mean of values in a: {a.mean() = }\")\n",
    "print(f\"The maximum of values in a: {a.max() = }\")\n",
    "print(f\"The argmax of values in a: {a.argmax() = }\")\n",
    "print(f\"The minimum of values in a: {a.min() = }\")\n",
    "print(f\"The argmin of values in a: {a.argmin() = }\")\n"
   ]
  },
  {
   "cell_type": "code",
   "execution_count": 6,
   "id": "353d640d",
   "metadata": {},
   "outputs": [
    {
     "data": {
      "text/plain": [
       "3.0"
      ]
     },
     "execution_count": 6,
     "metadata": {},
     "output_type": "execute_result"
    }
   ],
   "source": [
    "max(a)"
   ]
  },
  {
   "cell_type": "code",
   "execution_count": 8,
   "id": "17eaf380",
   "metadata": {},
   "outputs": [
    {
     "name": "stdout",
     "output_type": "stream",
     "text": [
      "a = array([5., 6., 7., 8.])\n",
      "b = array([ 9., 10., 11., 12.])\n",
      "3*a = array([15., 18., 21., 24.])\n",
      "a + b = array([14., 16., 18., 20.])\n",
      "a - 2*b = array([-13., -14., -15., -16.])\n"
     ]
    }
   ],
   "source": [
    "a = np.array([5.0, 6.0, 7.0, 8.0])\n",
    "b = np.array([9.0, 10.0, 11.0, 12.0])\n",
    "\n",
    "print(f\"{a = }\")\n",
    "print(f\"{b = }\")\n",
    "\n",
    "print(f\"{3*a = }\")\n",
    "print(f\"{a + b = }\")\n",
    "print(f\"{a - 2*b = }\")"
   ]
  },
  {
   "cell_type": "code",
   "execution_count": 9,
   "id": "72d5a3e8",
   "metadata": {},
   "outputs": [
    {
     "name": "stdout",
     "output_type": "stream",
     "text": [
      "a = array([5., 6., 7., 8.])\n",
      "b = array([ 9., 10., 11., 12.])\n",
      "np.dot(a, b) = 278.0\n",
      "a @ b = 278.0\n"
     ]
    }
   ],
   "source": [
    "a = np.array([5.0, 6.0, 7.0, 8.0])\n",
    "b = np.array([9.0, 10.0, 11.0, 12.0])\n",
    "\n",
    "print(f\"{a = }\")\n",
    "print(f\"{b = }\")\n",
    "\n",
    "print(f\"{np.dot(a, b) = }\")\n",
    "print(f\"{a @ b = }\")\n"
   ]
  },
  {
   "cell_type": "code",
   "execution_count": 10,
   "id": "56b73bca",
   "metadata": {},
   "outputs": [
    {
     "name": "stdout",
     "output_type": "stream",
     "text": [
      "a = array([5., 6., 7., 8.])\n",
      "The old shape of a is: a.shape = (4,)\n",
      "The new shape of a is: a.shape = (4, 1)\n",
      "a = array([[5.],\n",
      "       [6.],\n",
      "       [7.],\n",
      "       [8.]])\n"
     ]
    }
   ],
   "source": [
    "a = np.array([5.0, 6.0, 7.0, 8.0])\n",
    "print(f\"{a = }\")\n",
    "print(f\"The old shape of a is: {a.shape = }\")\n",
    "\n",
    "a.shape = (4, 1)\n",
    "print(f\"The new shape of a is: {a.shape = }\")\n",
    "print(f\"{a = }\")"
   ]
  },
  {
   "cell_type": "code",
   "execution_count": 11,
   "id": "58e4f1ae",
   "metadata": {},
   "outputs": [
    {
     "name": "stdout",
     "output_type": "stream",
     "text": [
      "a = array([5., 6., 7., 8.])\n",
      "The old shape of a is: a.shape = (4,) \n",
      "\n",
      "The new shape of a is: a.shape = (1, 4)\n",
      "a = array([[5., 6., 7., 8.]])\n"
     ]
    }
   ],
   "source": [
    "a = np.array([5.0, 6.0, 7.0, 8.0])\n",
    "print(f\"{a = }\")\n",
    "print(f\"The old shape of a is: {a.shape = } \\n\")\n",
    "\n",
    "a.shape = (1, 4)\n",
    "print(f\"The new shape of a is: {a.shape = }\")\n",
    "print(f\"{a = }\")"
   ]
  },
  {
   "cell_type": "code",
   "execution_count": 12,
   "id": "d11f278e",
   "metadata": {},
   "outputs": [
    {
     "name": "stdout",
     "output_type": "stream",
     "text": [
      "The shape of A is: A.shape = (2, 3)\n",
      "A = array([[3., 4., 5.],\n",
      "       [6., 7., 8.]]) \n",
      "\n",
      "Row 0: A[0, :] = array([3., 4., 5.])\n",
      "Row 1: A[1, :] = array([6., 7., 8.]) \n",
      "\n",
      "Column 0: A[:, 0] = array([3., 6.])\n",
      "Column 1: A[:, 1] = array([4., 7.]) \n",
      "\n",
      "Element at row index 0 and column index 2: A[0, 2] = 5.0\n"
     ]
    }
   ],
   "source": [
    "A = np.array([[3.0, 4.0, 5.0], [6.0, 7.0, 8.0]])\n",
    "\n",
    "print(f\"The shape of A is: {A.shape = }\")\n",
    "print(f\"{A = } \\n\")\n",
    "\n",
    "print(f\"Row 0: {A[0, :] = }\")\n",
    "print(f\"Row 1: {A[1, :] = } \\n\")\n",
    "\n",
    "print(f\"Column 0: {A[:, 0] = }\")\n",
    "print(f\"Column 1: {A[:, 1] = } \\n\")\n",
    "\n",
    "print(f\"Element at row index 0 and column index 2: {A[0, 2] = }\")"
   ]
  },
  {
   "cell_type": "code",
   "execution_count": 13,
   "id": "a8ce2b4e",
   "metadata": {},
   "outputs": [
    {
     "name": "stdout",
     "output_type": "stream",
     "text": [
      "The shape of A is: A.shape = (2, 3)\n",
      "A = array([[3., 4., 5.],\n",
      "       [6., 7., 8.]]) \n",
      "\n",
      "Row 0: A[0, :] = array([3., 4., 5.])\n",
      "Row 1: A[1, :] = array([6., 7., 8.]) \n",
      "\n",
      "Column 0: A[:, 0] = array([3., 6.])\n",
      "Column 1: A[:, 1] = array([4., 7.]) \n",
      "\n",
      "----------------------------------------\n",
      "The shape of B is: B.shape = (3, 2)\n",
      "A.T: B = array([[3., 6.],\n",
      "       [4., 7.],\n",
      "       [5., 8.]]) \n",
      "\n",
      "Row 0: B[0, :] = array([3., 6.])\n",
      "Row 1: B[1, :] = array([4., 7.]) \n",
      "\n",
      "Column 0: B[:, 0] = array([3., 4., 5.])\n",
      "Column 1: B[:, 1] = array([6., 7., 8.]) \n",
      "\n"
     ]
    }
   ],
   "source": [
    "A = np.array([[3.0, 4.0, 5.0], [6.0, 7.0, 8.0]])\n",
    "\n",
    "print(f\"The shape of A is: {A.shape = }\")\n",
    "print(f\"{A = } \\n\")\n",
    "\n",
    "print(f\"Row 0: {A[0, :] = }\")\n",
    "print(f\"Row 1: {A[1, :] = } \\n\")\n",
    "\n",
    "print(f\"Column 0: {A[:, 0] = }\")\n",
    "print(f\"Column 1: {A[:, 1] = } \\n\")\n",
    "\n",
    "print(\"-\"*40)\n",
    "\n",
    "B = A.T # The Transpose method\n",
    "print(f\"The shape of B is: {B.shape = }\")\n",
    "print(f\"A.T: {B = } \\n\")\n",
    "\n",
    "print(f\"Row 0: {B[0, :] = }\")\n",
    "print(f\"Row 1: {B[1, :] = } \\n\")\n",
    "\n",
    "print(f\"Column 0: {B[:, 0] = }\")\n",
    "print(f\"Column 1: {B[:, 1] = } \\n\")"
   ]
  },
  {
   "cell_type": "code",
   "execution_count": 15,
   "id": "61b52ae9",
   "metadata": {},
   "outputs": [
    {
     "name": "stdout",
     "output_type": "stream",
     "text": [
      "x = 982\n",
      "y = 0.728770494830884\n"
     ]
    }
   ],
   "source": [
    "# Random Integer between 0 and 1000\n",
    "x = np.random.randint(1000)\n",
    "print(f\"{x = }\")\n",
    "\n",
    "# Random Float between 0 and 1\n",
    "y = np.random.rand()\n",
    "print(f\"{y = }\")"
   ]
  },
  {
   "cell_type": "code",
   "execution_count": 16,
   "id": "ce249b18",
   "metadata": {},
   "outputs": [
    {
     "name": "stdout",
     "output_type": "stream",
     "text": [
      "x = array([333, 250,  73])\n",
      "y = array([0.04118755, 0.63277712, 0.76144724, 0.56077612, 0.93635901])\n"
     ]
    }
   ],
   "source": [
    "# Random integer array with range 0 to 500 and 3 entries\n",
    "x = np.random.randint(500, size=(3))\n",
    "print(f\"{x = }\")\n",
    "\n",
    "# Random float array with range 0 to 1 and 3 entries\n",
    "y = np.random.rand(5)\n",
    "print(f\"{y = }\")"
   ]
  },
  {
   "cell_type": "code",
   "execution_count": 17,
   "id": "b81581f6",
   "metadata": {},
   "outputs": [
    {
     "name": "stdout",
     "output_type": "stream",
     "text": [
      "The shape of A is: A.shape = (5, 3)\n",
      "A = array([[0.62743511, 0.77811125, 0.09767449],\n",
      "       [0.43716001, 0.62506065, 0.3560308 ],\n",
      "       [0.38128144, 0.02427082, 0.04425855],\n",
      "       [0.2981312 , 0.27163583, 0.54961519],\n",
      "       [0.07244419, 0.17183513, 0.1956788 ]]) \n",
      "\n",
      "Row 0: A[0, :] = array([0.62743511, 0.77811125, 0.09767449])\n",
      "Row 1: A[1, :] = array([0.43716001, 0.62506065, 0.3560308 ]) \n",
      "\n",
      "Column 0: A[:, 0] = array([0.62743511, 0.43716001, 0.38128144, 0.2981312 , 0.07244419])\n",
      "Column 1: A[0:2, 1] = array([0.77811125, 0.62506065]) \n",
      "\n"
     ]
    }
   ],
   "source": [
    "A = np.random.rand(5, 3)\n",
    "print(f\"The shape of A is: {A.shape = }\")\n",
    "print(f\"{A = } \\n\")\n",
    "\n",
    "print(f\"Row 0: {A[0, :] = }\")\n",
    "print(f\"Row 1: {A[1, :] = } \\n\")\n",
    "\n",
    "print(f\"Column 0: {A[:, 0] = }\")\n",
    "print(f\"Column 1: {A[0:2, 1] = } \\n\")"
   ]
  },
  {
   "cell_type": "code",
   "execution_count": 18,
   "id": "41206194",
   "metadata": {},
   "outputs": [
    {
     "name": "stdout",
     "output_type": "stream",
     "text": [
      "[0.77811125 0.62506065]\n"
     ]
    },
    {
     "data": {
      "text/plain": [
       "(2,)"
      ]
     },
     "execution_count": 18,
     "metadata": {},
     "output_type": "execute_result"
    }
   ],
   "source": [
    "v = A[0:2, 1]\n",
    "print(v)\n",
    "v.shape\n"
   ]
  },
  {
   "cell_type": "code",
   "execution_count": 19,
   "id": "bd87f87e",
   "metadata": {},
   "outputs": [
    {
     "name": "stdout",
     "output_type": "stream",
     "text": [
      "x = 3\n"
     ]
    }
   ],
   "source": [
    "x = np.random.choice([3, 6, 9, 12])\n",
    "print(f\"{x = }\")"
   ]
  }
 ],
 "metadata": {
  "kernelspec": {
   "display_name": "Python 3 (ipykernel)",
   "language": "python",
   "name": "python3"
  },
  "language_info": {
   "codemirror_mode": {
    "name": "ipython",
    "version": 3
   },
   "file_extension": ".py",
   "mimetype": "text/x-python",
   "name": "python",
   "nbconvert_exporter": "python",
   "pygments_lexer": "ipython3",
   "version": "3.9.7"
  }
 },
 "nbformat": 4,
 "nbformat_minor": 5
}
