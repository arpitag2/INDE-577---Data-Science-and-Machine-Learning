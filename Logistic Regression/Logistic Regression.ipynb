{
 "cells": [
  {
   "cell_type": "code",
   "execution_count": 1,
   "metadata": {},
   "outputs": [],
   "source": [
    "import matplotlib.pyplot as plt\n",
    "import numpy as np\n",
    "import pandas as pd\n",
    "import seaborn as sns\n",
    "\n",
    "# Set theme for plotting\n",
    "sns.set_theme()\n",
    "\n",
    "# Import the data\n",
    "wine = pd.read_csv(\"Datasets/winequality-red4_7.csv\")\n",
    "\n",
    "X = wine[[\"alcohol\", \"pH\"]].to_numpy()\n",
    "\n",
    "# Define labeling function\n",
    "def make_labels(y):\n",
    "    if y ==4:\n",
    "        return 0\n",
    "    else:\n",
    "        return 1\n",
    "         \n",
    "# Create target value array\n",
    "y = wine[\"quality\"].map(make_labels).to_numpy()"
   ]
  },
  {
   "cell_type": "code",
   "execution_count": 10,
   "metadata": {},
   "outputs": [
    {
     "name": "stdout",
     "output_type": "stream",
     "text": [
      "Logistic Report\n",
      "              precision    recall  f1-score   support\n",
      "\n",
      "           0       0.92      0.48      0.63        25\n",
      "           1       0.85      0.99      0.91        76\n",
      "\n",
      "    accuracy                           0.86       101\n",
      "   macro avg       0.89      0.73      0.77       101\n",
      "weighted avg       0.87      0.86      0.84       101\n",
      " \n",
      "\n"
     ]
    }
   ],
   "source": [
    "from sklearn.model_selection import train_test_split\n",
    "from sklearn.metrics import classification_report\n",
    "from sklearn.linear_model import LogisticRegression\n",
    "\n",
    "X_train, X_test, y_train, y_test = train_test_split(X, \n",
    "                                                    y,\n",
    "                                                    test_size = 0.4, \n",
    "                                                    random_state = 42)\n",
    "\n",
    "\n",
    "clf = LogisticRegression(random_state=0).fit(X, y)\n",
    "\n",
    "clf.fit(X_train, y_train)\n",
    "logistic_y_pred = clf.predict(X_test)\n",
    "print(f\"Logistic Report\")\n",
    "print(classification_report(y_test, logistic_y_pred), \"\\n\")"
   ]
  }
 ],
 "metadata": {
  "kernelspec": {
   "display_name": "Python 3.9.7 ('base')",
   "language": "python",
   "name": "python3"
  },
  "language_info": {
   "codemirror_mode": {
    "name": "ipython",
    "version": 3
   },
   "file_extension": ".py",
   "mimetype": "text/x-python",
   "name": "python",
   "nbconvert_exporter": "python",
   "pygments_lexer": "ipython3",
   "version": "3.9.7"
  },
  "orig_nbformat": 4,
  "vscode": {
   "interpreter": {
    "hash": "d193fa951219ec4b4b68b5c955c182f1d147e57133a964ef670fef51bb866c8c"
   }
  }
 },
 "nbformat": 4,
 "nbformat_minor": 2
}
