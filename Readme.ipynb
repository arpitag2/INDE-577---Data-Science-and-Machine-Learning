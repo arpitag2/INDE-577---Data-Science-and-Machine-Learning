{
 "cells": [
  {
   "cell_type": "markdown",
   "metadata": {},
   "source": [
    "# INDE 577 -- Data Science and Machine Learning\n",
    "\n",
    "---\n",
    "###### Student Name: Arpit Agrawal\n",
    "###### Github Link: https://github.com/arpitag2\n",
    "###### Email id: aagraw28@cougarnet.uh.edu\n",
    "###### Course Instructor: Randy Davilla, PhD\n",
    "\n",
    "\n",
    "## Project Description\n",
    "\n",
    "\n",
    "This repository if towards the final project for the course - INDE 577: Data Science and Machine Learning, offered at Rice University in Fall 2022. \n",
    "\n",
    "Following Data Science Tools have been used towards this project:\n",
    "\n",
    "- Python version 3.6 or higher\n",
    "  - [pandas](https://pandas.pydata.org/docs/user_guide/index.html)\n",
    "  - [Numpy](https://numpy.org/doc/stable/)\n",
    "  - [Matplotlib](https://matplotlib.org/stable/contents.html)\n",
    "  - [scikit-learn](https://scikit-learn.org/stable/user_guide.html)\n",
    "  - [Tensorflow](https://www.tensorflow.org/api_docs/python/tf/all_symbols)\n",
    "  \n",
    "The topics covered in this course broadly fall into 2 categories: \n",
    "  \n",
    "## Repository Description\n",
    "\n",
    "This repository consists of sub-repositories which are named after each algorithm implemented. The sub-repositories contain:\n",
    "1. Dataset for which the algorithm has been implemented.\n",
    "2. Readme file which contains the description of the dataset and the algorithm.\n",
    "3. The python kernel (.ipynb file) which contains the algorithm.\n",
    "\n",
    "Programming language used in this repository is Python 3."
   ]
  }
 ],
 "metadata": {
  "kernelspec": {
   "display_name": "Python 3.9.7 ('base')",
   "language": "python",
   "name": "python3"
  },
  "language_info": {
   "name": "python",
   "version": "3.9.7"
  },
  "orig_nbformat": 4,
  "vscode": {
   "interpreter": {
    "hash": "d193fa951219ec4b4b68b5c955c182f1d147e57133a964ef670fef51bb866c8c"
   }
  }
 },
 "nbformat": 4,
 "nbformat_minor": 2
}
