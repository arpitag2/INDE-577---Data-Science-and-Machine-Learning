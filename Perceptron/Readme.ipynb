{
 "cells": [
  {
   "cell_type": "markdown",
   "metadata": {},
   "source": [
    "# Wine Quality Dataset\n",
    "\n",
    "Source: UC Irvine Libraries\n",
    "\n",
    "The dataset consists of red wine variant of Portuges \"Vinho Verde\" wine. Due to privacy and logistic issues, only physicochemical (inputs) and sensory (the output) variables are available (e.g. there is no data about grape types, wine brand, wine selling price, etc.).\n",
    "\n",
    "For this algorithm, I use the dataset for classification. We divide dataset into two classes - Wine Quality <=5 and >5.\n",
    "\n",
    "Attribute Information:\n",
    "\n",
    "For more information, read [Cortez et al., 2009]. \n",
    "Input variables (based on physicochemical tests): \n",
    "1 - fixed acidity \n",
    "2 - volatile acidity \n",
    "3 - citric acid \n",
    "4 - residual sugar \n",
    "5 - chlorides \n",
    "6 - free sulfur dioxide \n",
    "7 - total sulfur dioxide \n",
    "8 - density \n",
    "9 - pH \n",
    "10 - sulphates \n",
    "11 - alcohol \n",
    "Output variable (based on sensory data): \n",
    "12 - quality (score between 0 and 10)\n",
    "\n",
    "\n",
    "I have used Alcohol (attribute 11) and pH (attribute 9) for this algorithm."
   ]
  },
  {
   "cell_type": "markdown",
   "metadata": {},
   "source": [
    "# Perceptron Algorithm\n",
    "Perceptron is an artifical neural network based on the concept of a human neuron.\n",
    "\n",
    "Like in neurons, a perceptron takes inputs and converts it into outputs (binary output - 0 or 1).\n",
    "\n",
    "![Alt Text](figure.png)\n",
    "\n",
    "\n",
    "## How does Perceptron work?\n",
    "\n",
    "- Perceptron takes all the inputs and assigns them a weight.\n",
    "- Then it takes a weighted sum of all the inputs.\n",
    "- Finally, it gives the output 1 if the weighted sum is greater than a threshold (or bias), and 0 otherwise.\n",
    "\n",
    "f(x) = { x<=b : 0 , x>b : 1 }\n",
    "\n",
    "Source: https://sdsclub.com/the-complete-guide-to-perceptron-algorithm-in-python/\n",
    "\n",
    "\n",
    "\n"
   ]
  }
 ],
 "metadata": {
  "kernelspec": {
   "display_name": "Python 3.10.6 64-bit",
   "language": "python",
   "name": "python3"
  },
  "language_info": {
   "name": "python",
   "version": "3.10.6"
  },
  "orig_nbformat": 4,
  "vscode": {
   "interpreter": {
    "hash": "aee8b7b246df8f9039afb4144a1f6fd8d2ca17a180786b69acc140d282b71a49"
   }
  }
 },
 "nbformat": 4,
 "nbformat_minor": 2
}
